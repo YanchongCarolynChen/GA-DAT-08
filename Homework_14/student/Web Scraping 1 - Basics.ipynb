{
 "metadata": {
  "name": "Web Scraping 1 - Basics"
 },
 "nbformat": 3,
 "nbformat_minor": 0,
 "worksheets": [
  {
   "cells": [
    {
     "cell_type": "code",
     "collapsed": false,
     "input": [
      "import re\n",
      "import pandas as pd\n",
      "import requests\n",
      "from bs4 import BeautifulSoup\n",
      "import StringIO\n",
      "import html5lib\n"
     ],
     "language": "python",
     "metadata": {},
     "outputs": [],
     "prompt_number": "*"
    },
    {
     "cell_type": "code",
     "collapsed": false,
     "input": [
      "# Lets just try using the libraries\n",
      "url = 'http://www.nytimes.com/pages/todayspaper/'\n",
      "page = requests.get(url)\n"
     ],
     "language": "python",
     "metadata": {},
     "outputs": [],
     "prompt_number": 2
    },
    {
     "cell_type": "code",
     "collapsed": false,
     "input": [
      "type(page)"
     ],
     "language": "python",
     "metadata": {},
     "outputs": [
      {
       "output_type": "pyout",
       "prompt_number": 3,
       "text": [
        "requests.models.Response"
       ]
      }
     ],
     "prompt_number": 3
    },
    {
     "cell_type": "code",
     "collapsed": false,
     "input": [
      "soup = BeautifulSoup(page.text)\n",
      "spn = soup.findAll('div', {'class':'story'})"
     ],
     "language": "python",
     "metadata": {},
     "outputs": [],
     "prompt_number": 4
    },
    {
     "cell_type": "code",
     "collapsed": false,
     "input": [
      "for r in spn:\n",
      "    print r.find('h3').get_text().strip()"
     ],
     "language": "python",
     "metadata": {},
     "outputs": [
      {
       "output_type": "stream",
       "stream": "stdout",
       "text": [
        "More Deportations Follow Minor Crimes, Records Show\n",
        "Facing His Torturer as Spain Confronts Its Past\n",
        "U.S. Tries Candor to Assure China on Cyberattacks\n",
        "Cities Advance Their Fight Against Rising Inequality\n",
        "Catholic Schools in U.S. Court China\u00e2\u0080\u0099s Youth, and Their Cash\n",
        "Mickey Rooney, Master of Putting On a Show, Dies at 93\n",
        "Young, Rich and Ruling Radio, Country Walks a Broader Line\n",
        "Prayers and Painful Memories in Rwanda\n"
       ]
      }
     ],
     "prompt_number": 5
    },
    {
     "cell_type": "code",
     "collapsed": false,
     "input": [
      "# Using requests to create a session\n",
      "# Were going to try to pull data from this site: \n",
      "# http://www.prosper.com/invest/trade/buy/note_search.aspx\n",
      "s = requests.session()\n",
      "dta = {'__VIEWSTATE':'/wEPDwUINTkxMjkzNzJkZMpxQ8b2WRGRK2GpStZHKLsJ3pDK',\n",
      "        'M$MainContent$btnAgree':'Agree and Continue >'}\n",
      "pg = s.post('https://www.prosper.com/invest/trade/account/access.aspx?BackURL=http%3a%2f%2fwww.prosper.com%2finvest%2ftrade%2fbuy%2fnote_search.aspx', data=dta)     \n"
     ],
     "language": "python",
     "metadata": {},
     "outputs": [],
     "prompt_number": 6
    },
    {
     "cell_type": "code",
     "collapsed": false,
     "input": [
      "lst = pd.read_html(StringIO.StringIO(pg.text), flavor='bs4')\n",
      "df = lst[4]"
     ],
     "language": "python",
     "metadata": {},
     "outputs": [],
     "prompt_number": 7
    },
    {
     "cell_type": "code",
     "collapsed": false,
     "input": [],
     "language": "python",
     "metadata": {},
     "outputs": [],
     "prompt_number": "*"
    },
    {
     "cell_type": "code",
     "collapsed": false,
     "input": [
      "df.head()"
     ],
     "language": "python",
     "metadata": {},
     "outputs": [
      {
       "html": [
        "<div style=\"max-height:1000px;max-width:1500px;overflow:auto;\">\n",
        "<table border=\"1\" class=\"dataframe\">\n",
        "  <thead>\n",
        "    <tr style=\"text-align: right;\">\n",
        "      <th></th>\n",
        "      <th>0</th>\n",
        "      <th>1</th>\n",
        "      <th>2</th>\n",
        "      <th>3</th>\n",
        "      <th>4</th>\n",
        "      <th>5</th>\n",
        "      <th>6</th>\n",
        "      <th>7</th>\n",
        "      <th>8</th>\n",
        "      <th>9</th>\n",
        "      <th>10</th>\n",
        "      <th>11</th>\n",
        "    </tr>\n",
        "  </thead>\n",
        "  <tbody>\n",
        "    <tr>\n",
        "      <th>0</th>\n",
        "      <td>NaN</td>\n",
        "      <td> ProsperNote ID</td>\n",
        "      <td> Borrowerrate</td>\n",
        "      <td> ProsperRating</td>\n",
        "      <td> Creditscore</td>\n",
        "      <td> Loan term(months)</td>\n",
        "      <td> Balance atSettlement</td>\n",
        "      <td> Currentprice</td>\n",
        "      <td> Currentyield</td>\n",
        "      <td> Premium/Discount</td>\n",
        "      <td> Bids</td>\n",
        "      <td>                NaT</td>\n",
        "    </tr>\n",
        "    <tr>\n",
        "      <th>1</th>\n",
        "      <td>NaN</td>\n",
        "      <td>        92256-4</td>\n",
        "      <td>       23.19%</td>\n",
        "      <td>             C</td>\n",
        "      <td>     660-679</td>\n",
        "      <td>                60</td>\n",
        "      <td>              $183.22</td>\n",
        "      <td>      $188.72</td>\n",
        "      <td>       20.25%</td>\n",
        "      <td>        3.0% prem</td>\n",
        "      <td>  NaN</td>\n",
        "      <td>2014-04-07 00:27:00</td>\n",
        "    </tr>\n",
        "    <tr>\n",
        "      <th>2</th>\n",
        "      <td>NaN</td>\n",
        "      <td>       59981-99</td>\n",
        "      <td>       18.45%</td>\n",
        "      <td>             B</td>\n",
        "      <td>     700-719</td>\n",
        "      <td>                60</td>\n",
        "      <td>               $70.22</td>\n",
        "      <td>       $72.33</td>\n",
        "      <td>       14.87%</td>\n",
        "      <td>        3.0% prem</td>\n",
        "      <td>  NaN</td>\n",
        "      <td>2014-04-07 00:30:00</td>\n",
        "    </tr>\n",
        "    <tr>\n",
        "      <th>3</th>\n",
        "      <td>NaN</td>\n",
        "      <td>        72073-4</td>\n",
        "      <td>       24.49%</td>\n",
        "      <td>             D</td>\n",
        "      <td>     680-699</td>\n",
        "      <td>                36</td>\n",
        "      <td>               $12.89</td>\n",
        "      <td>       $13.69</td>\n",
        "      <td>       12.18%</td>\n",
        "      <td>        6.2% prem</td>\n",
        "      <td>  NaN</td>\n",
        "      <td>2014-04-07 01:00:00</td>\n",
        "    </tr>\n",
        "    <tr>\n",
        "      <th>4</th>\n",
        "      <td>NaN</td>\n",
        "      <td>        71745-3</td>\n",
        "      <td>       31.77%</td>\n",
        "      <td>            HR</td>\n",
        "      <td>     700-719</td>\n",
        "      <td>                36</td>\n",
        "      <td>               $15.10</td>\n",
        "      <td>       $16.61</td>\n",
        "      <td>       14.88%</td>\n",
        "      <td>       10.0% prem</td>\n",
        "      <td>  NaN</td>\n",
        "      <td>2014-04-07 01:00:00</td>\n",
        "    </tr>\n",
        "  </tbody>\n",
        "</table>\n",
        "<p>5 rows \u00d7 12 columns</p>\n",
        "</div>"
       ],
       "output_type": "pyout",
       "prompt_number": 10,
       "text": [
        "   0               1             2              3            4   \\\n",
        "0 NaN  ProsperNote ID  Borrowerrate  ProsperRating  Creditscore   \n",
        "1 NaN         92256-4        23.19%              C      660-679   \n",
        "2 NaN        59981-99        18.45%              B      700-719   \n",
        "3 NaN         72073-4        24.49%              D      680-699   \n",
        "4 NaN         71745-3        31.77%             HR      700-719   \n",
        "\n",
        "                  5                     6             7             8   \\\n",
        "0  Loan term(months)  Balance atSettlement  Currentprice  Currentyield   \n",
        "1                 60               $183.22       $188.72        20.25%   \n",
        "2                 60                $70.22        $72.33        14.87%   \n",
        "3                 36                $12.89        $13.69        12.18%   \n",
        "4                 36                $15.10        $16.61        14.88%   \n",
        "\n",
        "                 9     10                  11  \n",
        "0  Premium/Discount  Bids                 NaT  \n",
        "1         3.0% prem   NaN 2014-04-07 00:27:00  \n",
        "2         3.0% prem   NaN 2014-04-07 00:30:00  \n",
        "3         6.2% prem   NaN 2014-04-07 01:00:00  \n",
        "4        10.0% prem   NaN 2014-04-07 01:00:00  \n",
        "\n",
        "[5 rows x 12 columns]"
       ]
      }
     ],
     "prompt_number": 10
    },
    {
     "cell_type": "code",
     "collapsed": false,
     "input": [
      "# Lets login to linkedin\n",
      "s = requests.session()\n",
      "p = s.get('https://www.linkedin.com/')"
     ],
     "language": "python",
     "metadata": {},
     "outputs": [],
     "prompt_number": 11
    },
    {
     "cell_type": "code",
     "collapsed": false,
     "input": [
      "lp = BeautifulSoup(p.text)"
     ],
     "language": "python",
     "metadata": {},
     "outputs": [],
     "prompt_number": 12
    },
    {
     "cell_type": "code",
     "collapsed": false,
     "input": [],
     "language": "python",
     "metadata": {},
     "outputs": [],
     "prompt_number": 14
    },
    {
     "cell_type": "code",
     "collapsed": false,
     "input": [
      "email = 'Insert your email'\n",
      "pswd = 'Your password'\n",
      "dta = {\n",
      "    'isJsEnabled':'true',\n",
      "    'source_app':'',\n",
      "    'session_key':email,\n",
      "    'session_password':pswd,\n",
      "    'signin':'Sign In',\n",
      "    'session_redirect':'',\n",
      "    'trk':'',\n",
      "    'loginCsrfParam':lp.find('input', {'type':'hidden', 'name':'loginCsrfParam'}).get('value'),\n",
      "    'csrfToken':lp.find('input', {'type':'hidden', 'name':'csrfToken'}).get('value'),\n",
      "    'sourceAlias':lp.find('input', {'type':'hidden', 'name':'sourceAlias'}).get('value')\n",
      "}\n",
      "\n"
     ],
     "language": "python",
     "metadata": {},
     "outputs": []
    },
    {
     "cell_type": "code",
     "collapsed": false,
     "input": [
      "\n",
      "s.headers['User-Agent'] = 'Mozilla/5.0 (Macintosh; Intel Mac OS X 10_9_0) AppleWebKit/537.36 (KHTML, like Gecko) Chrome/33.0.1750.152 Safari/537.36'\n",
      "s.headers['Accept-Language'] = 'en-US,en;q=0.8'\n",
      "s.headers['Connection'] = 'keep-alive'\n",
      "s.headers['Host'] = 'www.linkedin.com'\n",
      "s.headers['Referer'] = 'https://www.linkedin.com/?trk=nav_logo'\n",
      "s.headers['Accept'] = 'text/html,application/xhtml+xml,application/xml;q=0.9,image/webp,*/*;q=0.8'\n",
      "s.headers['Accept-Encoding'] = 'gzip,deflate,sdch'\n",
      "\n",
      "lg = s.post('https://www.linkedin.com/uas/login-submit', dta)\n"
     ],
     "language": "python",
     "metadata": {},
     "outputs": []
    },
    {
     "cell_type": "code",
     "collapsed": false,
     "input": [
      "requests.get(url, data={})"
     ],
     "language": "python",
     "metadata": {},
     "outputs": [
      {
       "ename": "NameError",
       "evalue": "name 'lg' is not defined",
       "output_type": "pyerr",
       "traceback": [
        "\u001b[0;31m---------------------------------------------------------------------------\u001b[0m\n\u001b[0;31mNameError\u001b[0m                                 Traceback (most recent call last)",
        "\u001b[0;32m<ipython-input-15-baba4719a9f9>\u001b[0m in \u001b[0;36m<module>\u001b[0;34m()\u001b[0m\n\u001b[0;32m----> 1\u001b[0;31m \u001b[0mlg\u001b[0m\u001b[0;34m.\u001b[0m\u001b[0mtext\u001b[0m\u001b[0;34m\u001b[0m\u001b[0m\n\u001b[0m",
        "\u001b[0;31mNameError\u001b[0m: name 'lg' is not defined"
       ]
      }
     ],
     "prompt_number": 15
    },
    {
     "cell_type": "code",
     "collapsed": false,
     "input": [],
     "language": "python",
     "metadata": {},
     "outputs": []
    },
    {
     "cell_type": "code",
     "collapsed": false,
     "input": [],
     "language": "python",
     "metadata": {},
     "outputs": []
    }
   ],
   "metadata": {}
  }
 ]
}