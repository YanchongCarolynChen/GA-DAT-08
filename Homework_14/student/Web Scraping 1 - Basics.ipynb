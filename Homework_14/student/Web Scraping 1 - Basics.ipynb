{
 "metadata": {
  "name": "Web Scraping 1 - Basics"
 },
 "nbformat": 3,
 "nbformat_minor": 0,
 "worksheets": [
  {
   "cells": [
    {
     "cell_type": "code",
     "collapsed": false,
     "input": [
      "import re\n",
      "import pandas as pd\n",
      "import requests\n",
      "from bs4 import BeautifulSoup\n",
      "import StringIO\n",
      "import html5lib\n"
     ],
     "language": "python",
     "metadata": {},
     "outputs": []
    },
    {
     "cell_type": "code",
     "collapsed": false,
     "input": [
      "# Lets just try using the libraries\n",
      "url = 'http://www.nytimes.com/pages/todayspaper/'\n",
      "page = requests.get(url)\n"
     ],
     "language": "python",
     "metadata": {},
     "outputs": []
    },
    {
     "cell_type": "code",
     "collapsed": false,
     "input": [
      "soup = BeautifulSoup(page.text)\n",
      "spn = soup.findAll('div', {'class':'story'})"
     ],
     "language": "python",
     "metadata": {},
     "outputs": []
    },
    {
     "cell_type": "code",
     "collapsed": false,
     "input": [
      "for r in spn:\n",
      "    print r.find('h3').get_text().strip()"
     ],
     "language": "python",
     "metadata": {},
     "outputs": []
    },
    {
     "cell_type": "code",
     "collapsed": false,
     "input": [
      "# Using requests to create a session\n",
      "# Were going to try to pull data from this site: \n",
      "# http://www.prosper.com/invest/trade/buy/note_search.aspx\n",
      "s = requests.session()\n",
      "dta = {'__VIEWSTATE':'/wEPDwUINTkxMjkzNzJkZMpxQ8b2WRGRK2GpStZHKLsJ3pDK',\n",
      "        'M$MainContent$btnAgree':'Agree and Continue >'}\n",
      "pg = s.post('https://www.prosper.com/invest/trade/account/access.aspx?BackURL=http%3a%2f%2fwww.prosper.com%2finvest%2ftrade%2fbuy%2fnote_search.aspx', data=dta)     \n"
     ],
     "language": "python",
     "metadata": {},
     "outputs": []
    },
    {
     "cell_type": "code",
     "collapsed": false,
     "input": [
      "lst = pd.read_html(StringIO.StringIO(pg.text), flavor='bs4')\n",
      "df = lst[4]"
     ],
     "language": "python",
     "metadata": {},
     "outputs": []
    },
    {
     "cell_type": "code",
     "collapsed": false,
     "input": [
      "df.head()"
     ],
     "language": "python",
     "metadata": {},
     "outputs": []
    },
    {
     "cell_type": "code",
     "collapsed": false,
     "input": [
      "# Lets login to linkedin\n",
      "s = requests.session()\n",
      "p = s.get('https://www.linkedin.com/')"
     ],
     "language": "python",
     "metadata": {},
     "outputs": []
    },
    {
     "cell_type": "code",
     "collapsed": false,
     "input": [
      "lp = BeautifulSoup(p.text)"
     ],
     "language": "python",
     "metadata": {},
     "outputs": []
    },
    {
     "cell_type": "code",
     "collapsed": false,
     "input": [
      "email = 'Insert your email\n",
      "pswd = 'Your password'\n",
      "dta = {\n",
      "    'isJsEnabled':'true',\n",
      "    'source_app':'',\n",
      "    'session_key':email,\n",
      "    'session_password':pswd,\n",
      "    'signin':'Sign In',\n",
      "    'session_redirect':'',\n",
      "    'trk':'',\n",
      "    'loginCsrfParam':lp.find('input', {'type':'hidden', 'name':'loginCsrfParam'}).get('value'),\n",
      "    'csrfToken':lp.find('input', {'type':'hidden', 'name':'csrfToken'}).get('value'),\n",
      "    'sourceAlias':lp.find('input', {'type':'hidden', 'name':'sourceAlias'}).get('value')\n",
      "}\n",
      "\n"
     ],
     "language": "python",
     "metadata": {},
     "outputs": []
    },
    {
     "cell_type": "code",
     "collapsed": false,
     "input": [
      "\n",
      "s.headers['User-Agent'] = 'Mozilla/5.0 (Macintosh; Intel Mac OS X 10_9_0) AppleWebKit/537.36 (KHTML, like Gecko) Chrome/33.0.1750.152 Safari/537.36'\n",
      "s.headers['Accept-Language'] = 'en-US,en;q=0.8'\n",
      "s.headers['Connection'] = 'keep-alive'\n",
      "s.headers['Host'] = 'www.linkedin.com'\n",
      "s.headers['Referer'] = 'https://www.linkedin.com/?trk=nav_logo'\n",
      "s.headers['Accept'] = 'text/html,application/xhtml+xml,application/xml;q=0.9,image/webp,*/*;q=0.8'\n",
      "s.headers['Accept-Encoding'] = 'gzip,deflate,sdch'\n",
      "\n",
      "lg = s.post('https://www.linkedin.com/uas/login-submit', dta)\n"
     ],
     "language": "python",
     "metadata": {},
     "outputs": []
    },
    {
     "cell_type": "code",
     "collapsed": false,
     "input": [],
     "language": "python",
     "metadata": {},
     "outputs": []
    },
    {
     "cell_type": "code",
     "collapsed": false,
     "input": [],
     "language": "python",
     "metadata": {},
     "outputs": []
    },
    {
     "cell_type": "code",
     "collapsed": false,
     "input": [],
     "language": "python",
     "metadata": {},
     "outputs": []
    }
   ],
   "metadata": {}
  }
 ]
}