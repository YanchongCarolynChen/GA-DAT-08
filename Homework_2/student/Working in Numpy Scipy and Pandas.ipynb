{
 "metadata": {
  "name": "Working in Numpy Scipy and Pandas"
 },
 "nbformat": 3,
 "nbformat_minor": 0,
 "worksheets": [
  {
   "cells": [
    {
     "cell_type": "code",
     "collapsed": false,
     "input": [
      "from numpy import *\n",
      "from scipy import linalg\n",
      "import pandas as pd"
     ],
     "language": "python",
     "metadata": {},
     "outputs": [],
     "prompt_number": 1
    },
    {
     "cell_type": "code",
     "collapsed": false,
     "input": [
      "from numpy import array, dot # No longer neccesary, but shows where we got these functions\n",
      "\n",
      "X = array([[1, 1], [1, 2], [1, 3], [1, 4]])\n",
      "y = array([[1], [2], [3], [4]])\n",
      "n = linalg.inv(dot(X.T, X))\n",
      "k = dot(X.T, y)\n",
      "coef_ = dot(n, k)\n"
     ],
     "language": "python",
     "metadata": {},
     "outputs": [],
     "prompt_number": 23
    },
    {
     "cell_type": "code",
     "collapsed": false,
     "input": [
      "print X\n",
      "print '-----------'\n",
      "print y"
     ],
     "language": "python",
     "metadata": {},
     "outputs": [
      {
       "output_type": "stream",
       "stream": "stdout",
       "text": [
        "[[1 1]\n",
        " [1 2]\n",
        " [1 3]\n",
        " [1 4]]\n",
        "-----------\n",
        "[[1]\n",
        " [2]\n",
        " [3]\n",
        " [4]]\n"
       ]
      }
     ],
     "prompt_number": 3
    },
    {
     "cell_type": "code",
     "collapsed": false,
     "input": [],
     "language": "python",
     "metadata": {},
     "outputs": [],
     "prompt_number": 22
    },
    {
     "cell_type": "code",
     "collapsed": false,
     "input": [
      "# Watch out for namespace issues!!\n",
      "def regression(X, y):\n",
      "    return dot(linalg.inv(dot(X.T, X)), dot(X.T, y))\n"
     ],
     "language": "python",
     "metadata": {},
     "outputs": [],
     "prompt_number": 4
    },
    {
     "cell_type": "code",
     "collapsed": false,
     "input": [
      "regression(X, y)"
     ],
     "language": "python",
     "metadata": {},
     "outputs": [
      {
       "output_type": "pyout",
       "prompt_number": 5,
       "text": [
        "array([[ -3.55271368e-15],\n",
        "       [  1.00000000e+00]])"
       ]
      }
     ],
     "prompt_number": 5
    },
    {
     "cell_type": "code",
     "collapsed": false,
     "input": [
      "a1 = array([ [1, 2], [3, 4] ])\n",
      "a2 = array([ [1, 3], [2, 4] ])\n",
      "m1 = matrix('1 2; 3 4')\n",
      "m2 = matrix('1 3; 2 4')\n",
      "print a1 * a2\n",
      "print m1 * m2\n"
     ],
     "language": "python",
     "metadata": {},
     "outputs": [
      {
       "output_type": "stream",
       "stream": "stdout",
       "text": [
        "[[ 1  6]\n",
        " [ 6 16]]\n",
        "[[ 5 11]\n",
        " [11 25]]\n"
       ]
      }
     ],
     "prompt_number": 39
    },
    {
     "cell_type": "code",
     "collapsed": false,
     "input": [
      "print dot(a1, a2)\n",
      "print dot(m1, m2)"
     ],
     "language": "python",
     "metadata": {},
     "outputs": [
      {
       "output_type": "stream",
       "stream": "stdout",
       "text": [
        "[[ 5 11]\n",
        " [11 25]]\n",
        "[[ 5 11]\n",
        " [11 25]]\n"
       ]
      }
     ],
     "prompt_number": 40
    },
    {
     "cell_type": "code",
     "collapsed": false,
     "input": [
      "# Numpy Has Great Mathematical Functions!!\n",
      "\n",
      "print exp(10) # e ^ value\n",
      "print log(1)\n",
      "print sqrt(4)\n"
     ],
     "language": "python",
     "metadata": {},
     "outputs": [
      {
       "output_type": "stream",
       "stream": "stdout",
       "text": [
        "22026.4657948\n",
        "0.0\n",
        "2.0\n"
       ]
      }
     ],
     "prompt_number": 49
    },
    {
     "cell_type": "code",
     "collapsed": false,
     "input": [
      "# .T Transposes the array or matrix:\n",
      "print a1.T"
     ],
     "language": "python",
     "metadata": {},
     "outputs": [
      {
       "output_type": "stream",
       "stream": "stdout",
       "text": [
        "[[1 3]\n",
        " [2 4]]\n"
       ]
      }
     ],
     "prompt_number": 54
    },
    {
     "cell_type": "code",
     "collapsed": false,
     "input": [
      "# .I returns the matrix inverse:\n",
      "print m1.I"
     ],
     "language": "python",
     "metadata": {},
     "outputs": [
      {
       "output_type": "stream",
       "stream": "stdout",
       "text": [
        "[[-2.   1. ]\n",
        " [ 1.5 -0.5]]\n"
       ]
      }
     ],
     "prompt_number": 55
    },
    {
     "cell_type": "code",
     "collapsed": false,
     "input": [
      "# eye(value) creates an identity matrix:\n",
      "iFive = eye(5)\n",
      "print iFive"
     ],
     "language": "python",
     "metadata": {},
     "outputs": [
      {
       "output_type": "stream",
       "stream": "stdout",
       "text": [
        "[[ 1.  0.  0.  0.  0.]\n",
        " [ 0.  1.  0.  0.  0.]\n",
        " [ 0.  0.  1.  0.  0.]\n",
        " [ 0.  0.  0.  1.  0.]\n",
        " [ 0.  0.  0.  0.  1.]]\n"
       ]
      }
     ],
     "prompt_number": 57
    },
    {
     "cell_type": "code",
     "collapsed": false,
     "input": [
      "# Lets Get Into Pandas!\n",
      "df = pd.read_csv('../input/nytimes.csv')\n"
     ],
     "language": "python",
     "metadata": {},
     "outputs": [],
     "prompt_number": 6
    },
    {
     "cell_type": "code",
     "collapsed": false,
     "input": [
      "df.describe()"
     ],
     "language": "python",
     "metadata": {},
     "outputs": [
      {
       "html": [
        "<div style=\"max-height:1000px;max-width:1500px;overflow:auto;\">\n",
        "<table border=\"1\" class=\"dataframe\">\n",
        "  <thead>\n",
        "    <tr style=\"text-align: right;\">\n",
        "      <th></th>\n",
        "      <th>Age</th>\n",
        "      <th>Gender</th>\n",
        "      <th>Impressions</th>\n",
        "      <th>Clicks</th>\n",
        "      <th>Signed_In</th>\n",
        "    </tr>\n",
        "  </thead>\n",
        "  <tbody>\n",
        "    <tr>\n",
        "      <th>count</th>\n",
        "      <td> 458441.000000</td>\n",
        "      <td> 458441.000000</td>\n",
        "      <td> 458441.000000</td>\n",
        "      <td> 458441.000000</td>\n",
        "      <td> 458441.000000</td>\n",
        "    </tr>\n",
        "    <tr>\n",
        "      <th>mean</th>\n",
        "      <td>     29.482551</td>\n",
        "      <td>      0.367037</td>\n",
        "      <td>      5.007316</td>\n",
        "      <td>      0.092594</td>\n",
        "      <td>      0.700930</td>\n",
        "    </tr>\n",
        "    <tr>\n",
        "      <th>std</th>\n",
        "      <td>     23.607034</td>\n",
        "      <td>      0.481997</td>\n",
        "      <td>      2.239349</td>\n",
        "      <td>      0.309973</td>\n",
        "      <td>      0.457851</td>\n",
        "    </tr>\n",
        "    <tr>\n",
        "      <th>min</th>\n",
        "      <td>      0.000000</td>\n",
        "      <td>      0.000000</td>\n",
        "      <td>      0.000000</td>\n",
        "      <td>      0.000000</td>\n",
        "      <td>      0.000000</td>\n",
        "    </tr>\n",
        "    <tr>\n",
        "      <th>25%</th>\n",
        "      <td>      0.000000</td>\n",
        "      <td>      0.000000</td>\n",
        "      <td>      3.000000</td>\n",
        "      <td>      0.000000</td>\n",
        "      <td>      0.000000</td>\n",
        "    </tr>\n",
        "    <tr>\n",
        "      <th>50%</th>\n",
        "      <td>     31.000000</td>\n",
        "      <td>      0.000000</td>\n",
        "      <td>      5.000000</td>\n",
        "      <td>      0.000000</td>\n",
        "      <td>      1.000000</td>\n",
        "    </tr>\n",
        "    <tr>\n",
        "      <th>75%</th>\n",
        "      <td>     48.000000</td>\n",
        "      <td>      1.000000</td>\n",
        "      <td>      6.000000</td>\n",
        "      <td>      0.000000</td>\n",
        "      <td>      1.000000</td>\n",
        "    </tr>\n",
        "    <tr>\n",
        "      <th>max</th>\n",
        "      <td>    108.000000</td>\n",
        "      <td>      1.000000</td>\n",
        "      <td>     20.000000</td>\n",
        "      <td>      4.000000</td>\n",
        "      <td>      1.000000</td>\n",
        "    </tr>\n",
        "  </tbody>\n",
        "</table>\n",
        "</div>"
       ],
       "output_type": "pyout",
       "prompt_number": 7,
       "text": [
        "                 Age         Gender    Impressions         Clicks      Signed_In\n",
        "count  458441.000000  458441.000000  458441.000000  458441.000000  458441.000000\n",
        "mean       29.482551       0.367037       5.007316       0.092594       0.700930\n",
        "std        23.607034       0.481997       2.239349       0.309973       0.457851\n",
        "min         0.000000       0.000000       0.000000       0.000000       0.000000\n",
        "25%         0.000000       0.000000       3.000000       0.000000       0.000000\n",
        "50%        31.000000       0.000000       5.000000       0.000000       1.000000\n",
        "75%        48.000000       1.000000       6.000000       0.000000       1.000000\n",
        "max       108.000000       1.000000      20.000000       4.000000       1.000000"
       ]
      }
     ],
     "prompt_number": 7
    },
    {
     "cell_type": "code",
     "collapsed": false,
     "input": [
      "# Create the average impressions and clicks for each age.\n",
      "dfg = df[ ['Age', 'Impressions', 'Clicks'] ].groupby(['Age']).agg([numpy.mean])\n",
      "dfg[:3]"
     ],
     "language": "python",
     "metadata": {},
     "outputs": [
      {
       "html": [
        "<div style=\"max-height:1000px;max-width:1500px;overflow:auto;\">\n",
        "<table border=\"1\" class=\"dataframe\">\n",
        "  <thead>\n",
        "    <tr>\n",
        "      <th></th>\n",
        "      <th>Impressions</th>\n",
        "      <th>Clicks</th>\n",
        "    </tr>\n",
        "    <tr>\n",
        "      <th></th>\n",
        "      <th>mean</th>\n",
        "      <th>mean</th>\n",
        "    </tr>\n",
        "    <tr>\n",
        "      <th>Age</th>\n",
        "      <th></th>\n",
        "      <th></th>\n",
        "    </tr>\n",
        "  </thead>\n",
        "  <tbody>\n",
        "    <tr>\n",
        "      <th>0</th>\n",
        "      <td> 4.999657</td>\n",
        "      <td> 0.142080</td>\n",
        "    </tr>\n",
        "    <tr>\n",
        "      <th>7</th>\n",
        "      <td> 5.200000</td>\n",
        "      <td> 0.600000</td>\n",
        "    </tr>\n",
        "    <tr>\n",
        "      <th>8</th>\n",
        "      <td> 6.266667</td>\n",
        "      <td> 0.266667</td>\n",
        "    </tr>\n",
        "  </tbody>\n",
        "</table>\n",
        "</div>"
       ],
       "output_type": "pyout",
       "prompt_number": 8,
       "text": [
        "     Impressions    Clicks\n",
        "            mean      mean\n",
        "Age                       \n",
        "0       4.999657  0.142080\n",
        "7       5.200000  0.600000\n",
        "8       6.266667  0.266667"
       ]
      }
     ],
     "prompt_number": 8
    },
    {
     "cell_type": "code",
     "collapsed": false,
     "input": [
      "# Creating New Columns\n",
      "df['log_impressions'] = df['Impressions'].apply(numpy.log)"
     ],
     "language": "python",
     "metadata": {},
     "outputs": [],
     "prompt_number": 9
    },
    {
     "cell_type": "code",
     "collapsed": false,
     "input": [
      "# Function that groups users by age.\n",
      "def map_age_category(x):\n",
      "    if x < 18:\n",
      "        return '1'\n",
      "    elif x < 25:\n",
      "        return '2'\n",
      "    elif x < 32:\n",
      "        return '3'\n",
      "    elif x < 45:\n",
      "        return '4'\n",
      "    else:\n",
      "        return '5'\n",
      "\n",
      "df['age_categories'] = df['Age'].apply(map_age_category)"
     ],
     "language": "python",
     "metadata": {},
     "outputs": [],
     "prompt_number": 10
    },
    {
     "cell_type": "code",
     "collapsed": false,
     "input": [
      "dfg = df[ ['age_categories', 'Impressions', 'Clicks'] ].groupby(['age_categories']).agg([numpy.mean])\n",
      "dfg"
     ],
     "language": "python",
     "metadata": {},
     "outputs": [
      {
       "html": [
        "<div style=\"max-height:1000px;max-width:1500px;overflow:auto;\">\n",
        "<table border=\"1\" class=\"dataframe\">\n",
        "  <thead>\n",
        "    <tr>\n",
        "      <th></th>\n",
        "      <th>Impressions</th>\n",
        "      <th>Clicks</th>\n",
        "    </tr>\n",
        "    <tr>\n",
        "      <th></th>\n",
        "      <th>mean</th>\n",
        "      <th>mean</th>\n",
        "    </tr>\n",
        "    <tr>\n",
        "      <th>age_categories</th>\n",
        "      <th></th>\n",
        "      <th></th>\n",
        "    </tr>\n",
        "  </thead>\n",
        "  <tbody>\n",
        "    <tr>\n",
        "      <th>1</th>\n",
        "      <td> 5.000345</td>\n",
        "      <td> 0.142745</td>\n",
        "    </tr>\n",
        "    <tr>\n",
        "      <th>2</th>\n",
        "      <td> 5.002826</td>\n",
        "      <td> 0.053251</td>\n",
        "    </tr>\n",
        "    <tr>\n",
        "      <th>3</th>\n",
        "      <td> 4.987812</td>\n",
        "      <td> 0.050488</td>\n",
        "    </tr>\n",
        "    <tr>\n",
        "      <th>4</th>\n",
        "      <td> 5.019271</td>\n",
        "      <td> 0.051457</td>\n",
        "    </tr>\n",
        "    <tr>\n",
        "      <th>5</th>\n",
        "      <td> 5.014676</td>\n",
        "      <td> 0.088098</td>\n",
        "    </tr>\n",
        "  </tbody>\n",
        "</table>\n",
        "</div>"
       ],
       "output_type": "pyout",
       "prompt_number": 11,
       "text": [
        "                Impressions    Clicks\n",
        "                       mean      mean\n",
        "age_categories                       \n",
        "1                  5.000345  0.142745\n",
        "2                  5.002826  0.053251\n",
        "3                  4.987812  0.050488\n",
        "4                  5.019271  0.051457\n",
        "5                  5.014676  0.088098"
       ]
      }
     ],
     "prompt_number": 11
    },
    {
     "cell_type": "code",
     "collapsed": false,
     "input": [
      "# Now Load the Data from http://stat.columbia.edu/~rachel/datasets/nyt1.csv for sets 1-30\n"
     ],
     "language": "python",
     "metadata": {},
     "outputs": [],
     "prompt_number": 19
    },
    {
     "cell_type": "code",
     "collapsed": false,
     "input": [],
     "language": "python",
     "metadata": {},
     "outputs": [],
     "prompt_number": 19
    },
    {
     "cell_type": "code",
     "collapsed": false,
     "input": [],
     "language": "python",
     "metadata": {},
     "outputs": [],
     "prompt_number": 19
    }
   ],
   "metadata": {}
  }
 ]
}