{
 "metadata": {
  "name": "Class 5 - Regression & Regularization"
 },
 "nbformat": 3,
 "nbformat_minor": 0,
 "worksheets": [
  {
   "cells": [
    {
     "cell_type": "code",
     "collapsed": false,
     "input": "!pip install -U scikit-learn\n!pip install -U patsy\n!pip install -U statsmodels",
     "language": "python",
     "metadata": {},
     "outputs": []
    },
    {
     "cell_type": "code",
     "collapsed": false,
     "input": "import statsmodels.formula.api as sm\nimport pandas as pd\n\ndf = pd.read_csv(\"http://data.princeton.edu/wws509/datasets/salary.dat\", sep='\\s+')\n\nmodel = sm.ols(formula=\"sl ~ yr\", data=df).fit()\nmodel.summary()",
     "language": "python",
     "metadata": {},
     "outputs": [
      {
       "output_type": "stream",
       "stream": "stderr",
       "text": "/usr/local/lib/python2.7/dist-packages/nose/util.py:14: DeprecationWarning: The compiler package is deprecated and removed in Python 3.x.\n  from compiler.consts import CO_GENERATOR\n"
      },
      {
       "html": "<table class=\"simpletable\">\n<caption>OLS Regression Results</caption>\n<tr>\n  <th>Dep. Variable:</th>           <td>sl</td>        <th>  R-squared:         </th> <td>   0.491</td>\n</tr>\n<tr>\n  <th>Model:</th>                   <td>OLS</td>       <th>  Adj. R-squared:    </th> <td>   0.481</td>\n</tr>\n<tr>\n  <th>Method:</th>             <td>Least Squares</td>  <th>  F-statistic:       </th> <td>   48.22</td>\n</tr>\n<tr>\n  <th>Date:</th>             <td>Wed, 05 Mar 2014</td> <th>  Prob (F-statistic):</th> <td>7.34e-09</td>\n</tr>\n<tr>\n  <th>Time:</th>                 <td>20:00:09</td>     <th>  Log-Likelihood:    </th> <td> -507.38</td>\n</tr>\n<tr>\n  <th>No. Observations:</th>      <td>    52</td>      <th>  AIC:               </th> <td>   1019.</td>\n</tr>\n<tr>\n  <th>Df Residuals:</th>          <td>    50</td>      <th>  BIC:               </th> <td>   1023.</td>\n</tr>\n<tr>\n  <th>Df Model:</th>              <td>     1</td>      <th>                     </th>     <td> </td>   \n</tr>\n</table>\n<table class=\"simpletable\">\n<tr>\n      <td></td>         <th>coef</th>     <th>std err</th>      <th>t</th>      <th>P>|t|</th> <th>[95.0% Conf. Int.]</th> \n</tr>\n<tr>\n  <th>Intercept</th> <td> 1.817e+04</td> <td> 1003.658</td> <td>   18.100</td> <td> 0.000</td> <td> 1.62e+04  2.02e+04</td>\n</tr>\n<tr>\n  <th>yr</th>        <td>  752.7978</td> <td>  108.409</td> <td>    6.944</td> <td> 0.000</td> <td>  535.051   970.544</td>\n</tr>\n</table>\n<table class=\"simpletable\">\n<tr>\n  <th>Omnibus:</th>       <td> 5.716</td> <th>  Durbin-Watson:     </th> <td>   1.430</td>\n</tr>\n<tr>\n  <th>Prob(Omnibus):</th> <td> 0.057</td> <th>  Jarque-Bera (JB):  </th> <td>   5.015</td>\n</tr>\n<tr>\n  <th>Skew:</th>          <td> 0.509</td> <th>  Prob(JB):          </th> <td>  0.0815</td>\n</tr>\n<tr>\n  <th>Kurtosis:</th>      <td> 4.130</td> <th>  Cond. No.          </th> <td>    15.8</td>\n</tr>\n</table>",
       "metadata": {},
       "output_type": "pyout",
       "prompt_number": 2,
       "text": "<class 'statsmodels.iolib.summary.Summary'>\n\"\"\"\n                            OLS Regression Results                            \n==============================================================================\nDep. Variable:                     sl   R-squared:                       0.491\nModel:                            OLS   Adj. R-squared:                  0.481\nMethod:                 Least Squares   F-statistic:                     48.22\nDate:                Wed, 05 Mar 2014   Prob (F-statistic):           7.34e-09\nTime:                        20:00:09   Log-Likelihood:                -507.38\nNo. Observations:                  52   AIC:                             1019.\nDf Residuals:                      50   BIC:                             1023.\nDf Model:                           1                                         \n==============================================================================\n                 coef    std err          t      P>|t|      [95.0% Conf. Int.]\n------------------------------------------------------------------------------\nIntercept   1.817e+04   1003.658     18.100      0.000      1.62e+04  2.02e+04\nyr           752.7978    108.409      6.944      0.000       535.051   970.544\n==============================================================================\nOmnibus:                        5.716   Durbin-Watson:                   1.430\nProb(Omnibus):                  0.057   Jarque-Bera (JB):                5.015\nSkew:                           0.509   Prob(JB):                       0.0815\nKurtosis:                       4.130   Cond. No.                         15.8\n==============================================================================\n\"\"\""
      }
     ],
     "prompt_number": 2
    },
    {
     "cell_type": "code",
     "collapsed": false,
     "input": "def summary_df(res):\n    reg_sum = res.summary()\n    a = reg_sum.tables[1]\n    af = [[b.strip() for b in row.split(',')] for row in ('feature'+a.as_csv()).split('\\n')]\n    \n    for wq in af:\n        if size(wq)>6:\n            print wq\n    rf = DataFrame(af[1:], columns=af[0])\n    rf = rf.rename(columns={'P>|t|':'tp', 'std err':'std_err'})\n    rf.coef = rf.coef.astype(float)\n    rf.t = rf.t.astype(float)\n    rf.std_err = rf.std_err.astype(float)\n    rf.tp = rf.tp.astype(float)\n    rf['abs_t'] = rf.t.abs()\n    return rf\n\nsummary_df(model)",
     "language": "python",
     "metadata": {},
     "outputs": [
      {
       "output_type": "stream",
       "stream": "stderr",
       "text": "/root/src/pandas/pandas/core/config.py:570: DeprecationWarning: height has been deprecated.\n\n  warnings.warn(d.msg, DeprecationWarning)\n/root/src/pandas/pandas/core/config.py:570: DeprecationWarning: height has been deprecated.\n\n  warnings.warn(d.msg, DeprecationWarning)\n"
      },
      {
       "html": "<div style=\"max-height:1000px;max-width:1500px;overflow:auto;\">\n<table border=\"1\" class=\"dataframe\">\n  <thead>\n    <tr style=\"text-align: right;\">\n      <th></th>\n      <th>feature</th>\n      <th>coef</th>\n      <th>std_err</th>\n      <th>t</th>\n      <th>tp</th>\n      <th>[95.0% Conf. Int.]</th>\n      <th>abs_t</th>\n    </tr>\n  </thead>\n  <tbody>\n    <tr>\n      <th>0</th>\n      <td> Intercept</td>\n      <td> 18170.0000</td>\n      <td> 1003.658</td>\n      <td> 18.100</td>\n      <td> 0</td>\n      <td> 1.62e+04  2.02e+04</td>\n      <td> 18.100</td>\n    </tr>\n    <tr>\n      <th>1</th>\n      <td>        yr</td>\n      <td>   752.7978</td>\n      <td>  108.409</td>\n      <td>  6.944</td>\n      <td> 0</td>\n      <td>  535.051   970.544</td>\n      <td>  6.944</td>\n    </tr>\n  </tbody>\n</table>\n</div>",
       "metadata": {},
       "output_type": "pyout",
       "prompt_number": 3,
       "text": "     feature        coef   std_err       t  tp  [95.0% Conf. Int.]   abs_t\n0  Intercept  18170.0000  1003.658  18.100   0  1.62e+04  2.02e+04  18.100\n1         yr    752.7978   108.409   6.944   0   535.051   970.544   6.944"
      }
     ],
     "prompt_number": 3
    },
    {
     "cell_type": "code",
     "collapsed": false,
     "input": "model = sm.ols(formula=\"sl ~ sx + yr + rk\", data=df).fit()\nmodel.summary()",
     "language": "python",
     "metadata": {},
     "outputs": [
      {
       "html": "<table class=\"simpletable\">\n<caption>OLS Regression Results</caption>\n<tr>\n  <th>Dep. Variable:</th>           <td>sl</td>        <th>  R-squared:         </th> <td>   0.846</td>\n</tr>\n<tr>\n  <th>Model:</th>                   <td>OLS</td>       <th>  Adj. R-squared:    </th> <td>   0.833</td>\n</tr>\n<tr>\n  <th>Method:</th>             <td>Least Squares</td>  <th>  F-statistic:       </th> <td>   64.64</td>\n</tr>\n<tr>\n  <th>Date:</th>             <td>Wed, 05 Mar 2014</td> <th>  Prob (F-statistic):</th> <td>1.64e-18</td>\n</tr>\n<tr>\n  <th>Time:</th>                 <td>20:00:22</td>     <th>  Log-Likelihood:    </th> <td> -476.26</td>\n</tr>\n<tr>\n  <th>No. Observations:</th>      <td>    52</td>      <th>  AIC:               </th> <td>   962.5</td>\n</tr>\n<tr>\n  <th>Df Residuals:</th>          <td>    47</td>      <th>  BIC:               </th> <td>   972.3</td>\n</tr>\n<tr>\n  <th>Df Model:</th>              <td>     4</td>      <th>                     </th>     <td> </td>   \n</tr>\n</table>\n<table class=\"simpletable\">\n<tr>\n         <td></td>            <th>coef</th>     <th>std err</th>      <th>t</th>      <th>P>|t|</th> <th>[95.0% Conf. Int.]</th> \n</tr>\n<tr>\n  <th>Intercept</th>       <td> 1.643e+04</td> <td>  737.966</td> <td>   22.265</td> <td> 0.000</td> <td> 1.49e+04  1.79e+04</td>\n</tr>\n<tr>\n  <th>sx[T.male]</th>      <td> -524.1492</td> <td>  834.687</td> <td>   -0.628</td> <td> 0.533</td> <td>-2203.323  1155.024</td>\n</tr>\n<tr>\n  <th>rk[T.associate]</th> <td> 4373.9154</td> <td>  906.124</td> <td>    4.827</td> <td> 0.000</td> <td> 2551.030  6196.801</td>\n</tr>\n<tr>\n  <th>rk[T.full]</th>      <td> 9483.8419</td> <td>  912.795</td> <td>   10.390</td> <td> 0.000</td> <td> 7647.536  1.13e+04</td>\n</tr>\n<tr>\n  <th>yr</th>              <td>  390.9358</td> <td>   75.383</td> <td>    5.186</td> <td> 0.000</td> <td>  239.285   542.587</td>\n</tr>\n</table>\n<table class=\"simpletable\">\n<tr>\n  <th>Omnibus:</th>       <td>23.039</td> <th>  Durbin-Watson:     </th> <td>   1.832</td>\n</tr>\n<tr>\n  <th>Prob(Omnibus):</th> <td> 0.000</td> <th>  Jarque-Bera (JB):  </th> <td>  38.727</td>\n</tr>\n<tr>\n  <th>Skew:</th>          <td> 1.410</td> <th>  Prob(JB):          </th> <td>3.90e-09</td>\n</tr>\n<tr>\n  <th>Kurtosis:</th>      <td> 6.150</td> <th>  Cond. No.          </th> <td>    32.3</td>\n</tr>\n</table>",
       "metadata": {},
       "output_type": "pyout",
       "prompt_number": 7,
       "text": "<class 'statsmodels.iolib.summary.Summary'>\n\"\"\"\n                            OLS Regression Results                            \n==============================================================================\nDep. Variable:                     sl   R-squared:                       0.846\nModel:                            OLS   Adj. R-squared:                  0.833\nMethod:                 Least Squares   F-statistic:                     64.64\nDate:                Wed, 05 Mar 2014   Prob (F-statistic):           1.64e-18\nTime:                        20:00:22   Log-Likelihood:                -476.26\nNo. Observations:                  52   AIC:                             962.5\nDf Residuals:                      47   BIC:                             972.3\nDf Model:                           4                                         \n===================================================================================\n                      coef    std err          t      P>|t|      [95.0% Conf. Int.]\n-----------------------------------------------------------------------------------\nIntercept        1.643e+04    737.966     22.265      0.000      1.49e+04  1.79e+04\nsx[T.male]       -524.1492    834.687     -0.628      0.533     -2203.323  1155.024\nrk[T.associate]  4373.9154    906.124      4.827      0.000      2551.030  6196.801\nrk[T.full]       9483.8419    912.795     10.390      0.000      7647.536  1.13e+04\nyr                390.9358     75.383      5.186      0.000       239.285   542.587\n==============================================================================\nOmnibus:                       23.039   Durbin-Watson:                   1.832\nProb(Omnibus):                  0.000   Jarque-Bera (JB):               38.727\nSkew:                           1.410   Prob(JB):                     3.90e-09\nKurtosis:                       6.150   Cond. No.                         32.3\n==============================================================================\n\"\"\""
      }
     ],
     "prompt_number": 7
    },
    {
     "cell_type": "code",
     "collapsed": false,
     "input": "from patsy import dmatrices\n\ny, X = dmatrices('sl ~ sx + yr + rk', data=df, return_type='dataframe')",
     "language": "python",
     "metadata": {},
     "outputs": [],
     "prompt_number": 8
    },
    {
     "cell_type": "code",
     "collapsed": false,
     "input": "from sklearn.linear_model import LinearRegression\n\nmodel = LinearRegression()\nmodel = model.fit(X,y)\nmodel.score(X,y)",
     "language": "python",
     "metadata": {},
     "outputs": [
      {
       "metadata": {},
       "output_type": "pyout",
       "prompt_number": 9,
       "text": "0.8461760134902937"
      }
     ],
     "prompt_number": 9
    },
    {
     "cell_type": "code",
     "collapsed": true,
     "input": "from sklearn.metrics import mean_absolute_error\n\nmean_absolute_error(model.predict(X), y)",
     "language": "python",
     "metadata": {},
     "outputs": [
      {
       "metadata": {},
       "output_type": "pyout",
       "prompt_number": 10,
       "text": "1638.0060186013989"
      }
     ],
     "prompt_number": 10
    },
    {
     "cell_type": "code",
     "collapsed": false,
     "input": "from sklearn import linear_model\n\nmodel = linear_model.Ridge(alpha = .5)\nmodel.fit(X,y)\n\nprint model.coef_",
     "language": "python",
     "metadata": {},
     "outputs": [
      {
       "output_type": "stream",
       "stream": "stdout",
       "text": "[[    0.          -421.25668145  3779.9005536   8721.66041047\n    417.42257364]]\n"
      }
     ],
     "prompt_number": 11
    },
    {
     "cell_type": "code",
     "collapsed": false,
     "input": "from sklearn import linear_model\n\nmodel = linear_model.RidgeCV(alphas=[0.1, 1.0, 10.0])\nmodel.fit(X,y)\n\nprint model.coef_",
     "language": "python",
     "metadata": {},
     "outputs": [
      {
       "output_type": "stream",
       "stream": "stdout",
       "text": "[[    0.          -501.05001107  4243.95176783  9319.37677802\n    396.62263309]]\n"
      }
     ],
     "prompt_number": 12
    },
    {
     "cell_type": "code",
     "collapsed": false,
     "input": "from sklearn.cross_validation import train_test_split\n\ntrain, test = train_test_split(df, test_size=0.25)",
     "language": "python",
     "metadata": {},
     "outputs": [],
     "prompt_number": 16
    },
    {
     "cell_type": "code",
     "collapsed": false,
     "input": "",
     "language": "python",
     "metadata": {},
     "outputs": []
    }
   ],
   "metadata": {}
  }
 ]
}