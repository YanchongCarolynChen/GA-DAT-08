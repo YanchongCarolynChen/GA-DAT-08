{
 "metadata": {
  "name": "Pandas Transform DataFrame Example"
 },
 "nbformat": 3,
 "nbformat_minor": 0,
 "worksheets": [
  {
   "cells": [
    {
     "cell_type": "code",
     "collapsed": false,
     "input": [
      "import pandas as pd\n",
      "import os\n",
      "import matplotlib as plt\n",
      "import numpy as np\n"
     ],
     "language": "python",
     "metadata": {},
     "outputs": []
    },
    {
     "cell_type": "code",
     "collapsed": false,
     "input": [
      "df = pd.read_csv('../input/2013_NCAA_Game.csv')\n",
      "df['game'] = 1\n",
      "df['win'] = [1 if w=='Win' else 0 for w in df['Team Result']]\n",
      "tt = df.groupby('Team')\n",
      "\n",
      "nf = pd.DataFrame(columns=df.columns)\n",
      "for team, grp in tt:\n",
      "    grp = grp.sort('Date')\n",
      "    grp['game'] = grp[['game']].cumsum()\n",
      "    grp['wins'] = grp[['win']].cumsum()\n",
      "    grp['pt_to_date'] = grp[['Team Score']].cumsum()\n",
      "    grp['pa_to_date'] = grp[['Opponent Score']].cumsum()\n",
      "    grp['win_percent'] = 100.0*grp.wins/grp.game   \n",
      "    grp['win_percent_adj'] = [50] + [v for v in (100.0*grp.wins/grp.game)][:-1]   \n",
      "    nf = nf.append(grp)\n",
      "\n",
      "nf.head()  \n"
     ],
     "language": "python",
     "metadata": {},
     "outputs": []
    },
    {
     "cell_type": "code",
     "collapsed": false,
     "input": [],
     "language": "python",
     "metadata": {},
     "outputs": []
    }
   ],
   "metadata": {}
  }
 ]
}